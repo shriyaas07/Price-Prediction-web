{
 "cells": [
  {
   "cell_type": "markdown",
   "id": "3795c37c-ddb3-41df-833c-57313cb8439c",
   "metadata": {},
   "source": [
    "# Dynamic Flight Pricing Model\n"
   ]
  },
  {
   "cell_type": "code",
   "execution_count": 47,
   "id": "69733ecf-fee0-4e2f-b1a2-aa61dffbfacd",
   "metadata": {},
   "outputs": [],
   "source": [
    "import pandas as pd\n",
    "import numpy as np\n",
    "import matplotlib.pyplot as plt\n",
    "import seaborn as sns\n",
    "import random"
   ]
  },
  {
   "cell_type": "code",
   "execution_count": 48,
   "id": "0e1ac294-aeb5-4439-9649-363b379457b8",
   "metadata": {},
   "outputs": [],
   "source": [
    "df=pd.read_csv('flight.csv')"
   ]
  },
  {
   "cell_type": "code",
   "execution_count": 49,
   "id": "717de429-a3b4-4dd4-bd7c-6202b27faaf0",
   "metadata": {},
   "outputs": [
    {
     "data": {
      "text/html": [
       "<div>\n",
       "<style scoped>\n",
       "    .dataframe tbody tr th:only-of-type {\n",
       "        vertical-align: middle;\n",
       "    }\n",
       "\n",
       "    .dataframe tbody tr th {\n",
       "        vertical-align: top;\n",
       "    }\n",
       "\n",
       "    .dataframe thead th {\n",
       "        text-align: right;\n",
       "    }\n",
       "</style>\n",
       "<table border=\"1\" class=\"dataframe\">\n",
       "  <thead>\n",
       "    <tr style=\"text-align: right;\">\n",
       "      <th></th>\n",
       "      <th>Unnamed: 0</th>\n",
       "      <th>From</th>\n",
       "      <th>To</th>\n",
       "      <th>Booking_date</th>\n",
       "      <th>Journey_date</th>\n",
       "      <th>Airline</th>\n",
       "      <th>Code</th>\n",
       "      <th>Departure</th>\n",
       "      <th>Arrival</th>\n",
       "      <th>Duration</th>\n",
       "      <th>Stops</th>\n",
       "      <th>Price</th>\n",
       "    </tr>\n",
       "  </thead>\n",
       "  <tbody>\n",
       "    <tr>\n",
       "      <th>0</th>\n",
       "      <td>0</td>\n",
       "      <td>Delhi</td>\n",
       "      <td>Bangalore</td>\n",
       "      <td>2022-06-23</td>\n",
       "      <td>2022-06-23</td>\n",
       "      <td>Air India</td>\n",
       "      <td>AI-504</td>\n",
       "      <td>21:15</td>\n",
       "      <td>00:05\\r\\n+1D</td>\n",
       "      <td>2h 50m</td>\n",
       "      <td>non-stop</td>\n",
       "      <td>₹9,420</td>\n",
       "    </tr>\n",
       "    <tr>\n",
       "      <th>1</th>\n",
       "      <td>1</td>\n",
       "      <td>Delhi</td>\n",
       "      <td>Bangalore</td>\n",
       "      <td>2022-06-23</td>\n",
       "      <td>2022-06-23</td>\n",
       "      <td>IndiGo</td>\n",
       "      <td>6E-2131</td>\n",
       "      <td>21:30</td>\n",
       "      <td>00:15\\r\\n+1D</td>\n",
       "      <td>2h 45m</td>\n",
       "      <td>non-stop</td>\n",
       "      <td>₹9,419</td>\n",
       "    </tr>\n",
       "    <tr>\n",
       "      <th>2</th>\n",
       "      <td>2</td>\n",
       "      <td>Delhi</td>\n",
       "      <td>Bangalore</td>\n",
       "      <td>2022-06-23</td>\n",
       "      <td>2022-06-23</td>\n",
       "      <td>IndiGo</td>\n",
       "      <td>6E-6565</td>\n",
       "      <td>22:55</td>\n",
       "      <td>01:45\\r\\n+1D</td>\n",
       "      <td>2h 50m</td>\n",
       "      <td>non-stop</td>\n",
       "      <td>₹9,419</td>\n",
       "    </tr>\n",
       "    <tr>\n",
       "      <th>3</th>\n",
       "      <td>3</td>\n",
       "      <td>Delhi</td>\n",
       "      <td>Bangalore</td>\n",
       "      <td>2022-06-23</td>\n",
       "      <td>2022-06-23</td>\n",
       "      <td>Air India</td>\n",
       "      <td>AI-605</td>\n",
       "      <td>21:15</td>\n",
       "      <td>07:50\\r\\n+1D</td>\n",
       "      <td>10h 35m</td>\n",
       "      <td>1 stop</td>\n",
       "      <td>₹14,775</td>\n",
       "    </tr>\n",
       "    <tr>\n",
       "      <th>4</th>\n",
       "      <td>4</td>\n",
       "      <td>Delhi</td>\n",
       "      <td>Bangalore</td>\n",
       "      <td>2022-06-23</td>\n",
       "      <td>2022-06-23</td>\n",
       "      <td>Air India</td>\n",
       "      <td>AI-605</td>\n",
       "      <td>21:15</td>\n",
       "      <td>18:20\\r\\n+1D</td>\n",
       "      <td>21h 5m</td>\n",
       "      <td>1 stop</td>\n",
       "      <td>₹14,985</td>\n",
       "    </tr>\n",
       "  </tbody>\n",
       "</table>\n",
       "</div>"
      ],
      "text/plain": [
       "   Unnamed: 0   From         To Booking_date Journey_date    Airline     Code  \\\n",
       "0           0  Delhi  Bangalore   2022-06-23   2022-06-23  Air India   AI-504   \n",
       "1           1  Delhi  Bangalore   2022-06-23   2022-06-23     IndiGo  6E-2131   \n",
       "2           2  Delhi  Bangalore   2022-06-23   2022-06-23     IndiGo  6E-6565   \n",
       "3           3  Delhi  Bangalore   2022-06-23   2022-06-23  Air India   AI-605   \n",
       "4           4  Delhi  Bangalore   2022-06-23   2022-06-23  Air India   AI-605   \n",
       "\n",
       "  Departure       Arrival Duration     Stops    Price  \n",
       "0     21:15  00:05\\r\\n+1D   2h 50m  non-stop   ₹9,420  \n",
       "1     21:30  00:15\\r\\n+1D   2h 45m  non-stop   ₹9,419  \n",
       "2     22:55  01:45\\r\\n+1D   2h 50m  non-stop   ₹9,419  \n",
       "3     21:15  07:50\\r\\n+1D  10h 35m    1 stop  ₹14,775  \n",
       "4     21:15  18:20\\r\\n+1D   21h 5m    1 stop  ₹14,985  "
      ]
     },
     "execution_count": 49,
     "metadata": {},
     "output_type": "execute_result"
    }
   ],
   "source": [
    "df.head()"
   ]
  },
  {
   "cell_type": "code",
   "execution_count": 50,
   "id": "8ea2c8ce-251c-4fbd-b83e-fe27b65fea93",
   "metadata": {},
   "outputs": [
    {
     "data": {
      "text/plain": [
       "(7548, 12)"
      ]
     },
     "execution_count": 50,
     "metadata": {},
     "output_type": "execute_result"
    }
   ],
   "source": [
    "df.shape"
   ]
  },
  {
   "cell_type": "code",
   "execution_count": 51,
   "id": "6e82b2f0-87ed-4262-b4fb-ca9232edfc27",
   "metadata": {},
   "outputs": [
    {
     "data": {
      "text/plain": [
       "Unnamed: 0         0\n",
       "From               0\n",
       "To                 0\n",
       "Booking_date       0\n",
       "Journey_date       0\n",
       "Airline            0\n",
       "Code               0\n",
       "Departure          0\n",
       "Arrival            0\n",
       "Duration           0\n",
       "Stops              0\n",
       "Price           1486\n",
       "dtype: int64"
      ]
     },
     "execution_count": 51,
     "metadata": {},
     "output_type": "execute_result"
    }
   ],
   "source": [
    "df.isnull().sum()"
   ]
  },
  {
   "cell_type": "code",
   "execution_count": 52,
   "id": "9e266e4c-6b64-4d3e-8fc0-3e6266257684",
   "metadata": {},
   "outputs": [],
   "source": [
    "df = df.dropna(subset=['Price']).copy()"
   ]
  },
  {
   "cell_type": "code",
   "execution_count": 53,
   "id": "ae5585d8-3f4f-4e21-9b37-cecb2d4cb2b6",
   "metadata": {},
   "outputs": [],
   "source": [
    "df['Price'] = df['Price'].replace({'₹': '', ',': ''}, regex=True).astype(int)"
   ]
  },
  {
   "cell_type": "code",
   "execution_count": 54,
   "id": "e6ea0ab4-524f-4be1-9741-9b21ca3088fd",
   "metadata": {},
   "outputs": [
    {
     "data": {
      "text/plain": [
       "(6062, 12)"
      ]
     },
     "execution_count": 54,
     "metadata": {},
     "output_type": "execute_result"
    }
   ],
   "source": [
    "df.shape"
   ]
  },
  {
   "cell_type": "code",
   "execution_count": 55,
   "id": "4e1076fd-a1fa-4c25-ad88-0c1ea66cd6f1",
   "metadata": {},
   "outputs": [
    {
     "data": {
      "text/html": [
       "<div>\n",
       "<style scoped>\n",
       "    .dataframe tbody tr th:only-of-type {\n",
       "        vertical-align: middle;\n",
       "    }\n",
       "\n",
       "    .dataframe tbody tr th {\n",
       "        vertical-align: top;\n",
       "    }\n",
       "\n",
       "    .dataframe thead th {\n",
       "        text-align: right;\n",
       "    }\n",
       "</style>\n",
       "<table border=\"1\" class=\"dataframe\">\n",
       "  <thead>\n",
       "    <tr style=\"text-align: right;\">\n",
       "      <th></th>\n",
       "      <th>Unnamed: 0</th>\n",
       "      <th>From</th>\n",
       "      <th>To</th>\n",
       "      <th>Booking_date</th>\n",
       "      <th>Journey_date</th>\n",
       "      <th>Airline</th>\n",
       "      <th>Code</th>\n",
       "      <th>Departure</th>\n",
       "      <th>Arrival</th>\n",
       "      <th>Duration</th>\n",
       "      <th>Stops</th>\n",
       "      <th>Price</th>\n",
       "    </tr>\n",
       "  </thead>\n",
       "  <tbody>\n",
       "    <tr>\n",
       "      <th>0</th>\n",
       "      <td>0</td>\n",
       "      <td>Delhi</td>\n",
       "      <td>Bangalore</td>\n",
       "      <td>2022-06-23</td>\n",
       "      <td>2022-06-23</td>\n",
       "      <td>Air India</td>\n",
       "      <td>AI-504</td>\n",
       "      <td>21:15</td>\n",
       "      <td>00:05\\r\\n+1D</td>\n",
       "      <td>2h 50m</td>\n",
       "      <td>non-stop</td>\n",
       "      <td>9420</td>\n",
       "    </tr>\n",
       "    <tr>\n",
       "      <th>1</th>\n",
       "      <td>1</td>\n",
       "      <td>Delhi</td>\n",
       "      <td>Bangalore</td>\n",
       "      <td>2022-06-23</td>\n",
       "      <td>2022-06-23</td>\n",
       "      <td>IndiGo</td>\n",
       "      <td>6E-2131</td>\n",
       "      <td>21:30</td>\n",
       "      <td>00:15\\r\\n+1D</td>\n",
       "      <td>2h 45m</td>\n",
       "      <td>non-stop</td>\n",
       "      <td>9419</td>\n",
       "    </tr>\n",
       "  </tbody>\n",
       "</table>\n",
       "</div>"
      ],
      "text/plain": [
       "   Unnamed: 0   From         To Booking_date Journey_date    Airline     Code  \\\n",
       "0           0  Delhi  Bangalore   2022-06-23   2022-06-23  Air India   AI-504   \n",
       "1           1  Delhi  Bangalore   2022-06-23   2022-06-23     IndiGo  6E-2131   \n",
       "\n",
       "  Departure       Arrival Duration     Stops  Price  \n",
       "0     21:15  00:05\\r\\n+1D   2h 50m  non-stop   9420  \n",
       "1     21:30  00:15\\r\\n+1D   2h 45m  non-stop   9419  "
      ]
     },
     "execution_count": 55,
     "metadata": {},
     "output_type": "execute_result"
    }
   ],
   "source": [
    "df.head(2)"
   ]
  },
  {
   "cell_type": "markdown",
   "id": "8a91c924-b03e-4cd2-ab1e-96f7c06109dc",
   "metadata": {},
   "source": [
    "**Convert Booking and Journey Date to datetime**\n"
   ]
  },
  {
   "cell_type": "code",
   "execution_count": 56,
   "id": "800e38aa-ae31-4df0-af3c-3377445a1bb1",
   "metadata": {},
   "outputs": [],
   "source": [
    "df['Booking_date'] = pd.to_datetime(df['Booking_date'], format='%Y-%m-%d')\n",
    "df['Journey_date'] = pd.to_datetime(df['Journey_date'], format='%Y-%m-%d')"
   ]
  },
  {
   "cell_type": "code",
   "execution_count": 57,
   "id": "3b4a50e7-ea68-4f34-91cb-256c2347bd1e",
   "metadata": {},
   "outputs": [
    {
     "data": {
      "text/html": [
       "<div>\n",
       "<style scoped>\n",
       "    .dataframe tbody tr th:only-of-type {\n",
       "        vertical-align: middle;\n",
       "    }\n",
       "\n",
       "    .dataframe tbody tr th {\n",
       "        vertical-align: top;\n",
       "    }\n",
       "\n",
       "    .dataframe thead th {\n",
       "        text-align: right;\n",
       "    }\n",
       "</style>\n",
       "<table border=\"1\" class=\"dataframe\">\n",
       "  <thead>\n",
       "    <tr style=\"text-align: right;\">\n",
       "      <th></th>\n",
       "      <th>Unnamed: 0</th>\n",
       "      <th>From</th>\n",
       "      <th>To</th>\n",
       "      <th>Booking_date</th>\n",
       "      <th>Journey_date</th>\n",
       "      <th>Airline</th>\n",
       "      <th>Code</th>\n",
       "      <th>Departure</th>\n",
       "      <th>Arrival</th>\n",
       "      <th>Duration</th>\n",
       "      <th>Stops</th>\n",
       "      <th>Price</th>\n",
       "    </tr>\n",
       "  </thead>\n",
       "  <tbody>\n",
       "    <tr>\n",
       "      <th>0</th>\n",
       "      <td>0</td>\n",
       "      <td>Delhi</td>\n",
       "      <td>Bangalore</td>\n",
       "      <td>2022-06-23</td>\n",
       "      <td>2022-06-23</td>\n",
       "      <td>Air India</td>\n",
       "      <td>AI-504</td>\n",
       "      <td>21:15</td>\n",
       "      <td>00:05\\r\\n+1D</td>\n",
       "      <td>2h 50m</td>\n",
       "      <td>non-stop</td>\n",
       "      <td>9420</td>\n",
       "    </tr>\n",
       "    <tr>\n",
       "      <th>1</th>\n",
       "      <td>1</td>\n",
       "      <td>Delhi</td>\n",
       "      <td>Bangalore</td>\n",
       "      <td>2022-06-23</td>\n",
       "      <td>2022-06-23</td>\n",
       "      <td>IndiGo</td>\n",
       "      <td>6E-2131</td>\n",
       "      <td>21:30</td>\n",
       "      <td>00:15\\r\\n+1D</td>\n",
       "      <td>2h 45m</td>\n",
       "      <td>non-stop</td>\n",
       "      <td>9419</td>\n",
       "    </tr>\n",
       "  </tbody>\n",
       "</table>\n",
       "</div>"
      ],
      "text/plain": [
       "   Unnamed: 0   From         To Booking_date Journey_date    Airline     Code  \\\n",
       "0           0  Delhi  Bangalore   2022-06-23   2022-06-23  Air India   AI-504   \n",
       "1           1  Delhi  Bangalore   2022-06-23   2022-06-23     IndiGo  6E-2131   \n",
       "\n",
       "  Departure       Arrival Duration     Stops  Price  \n",
       "0     21:15  00:05\\r\\n+1D   2h 50m  non-stop   9420  \n",
       "1     21:30  00:15\\r\\n+1D   2h 45m  non-stop   9419  "
      ]
     },
     "execution_count": 57,
     "metadata": {},
     "output_type": "execute_result"
    }
   ],
   "source": [
    "df.head(2)"
   ]
  },
  {
   "cell_type": "markdown",
   "id": "c0107d80-d713-4a9a-bf1b-9f881133f740",
   "metadata": {},
   "source": [
    "**Simulating booking hour**"
   ]
  },
  {
   "cell_type": "code",
   "execution_count": 58,
   "id": "11b2a5ef-f796-418c-9f0c-ceed445f1c28",
   "metadata": {},
   "outputs": [],
   "source": [
    "np.random.seed(42)\n",
    "df['Booking_Hour'] = np.random.randint(0, 24, size=len(df))\n",
    "df['Booking_DateTime'] = df['Booking_date'] + pd.to_timedelta(df['Booking_Hour'], unit='h')"
   ]
  },
  {
   "cell_type": "code",
   "execution_count": 59,
   "id": "a52fe0b9-7e68-4201-8a54-2d3cc9e921fc",
   "metadata": {},
   "outputs": [
    {
     "data": {
      "text/html": [
       "<div>\n",
       "<style scoped>\n",
       "    .dataframe tbody tr th:only-of-type {\n",
       "        vertical-align: middle;\n",
       "    }\n",
       "\n",
       "    .dataframe tbody tr th {\n",
       "        vertical-align: top;\n",
       "    }\n",
       "\n",
       "    .dataframe thead th {\n",
       "        text-align: right;\n",
       "    }\n",
       "</style>\n",
       "<table border=\"1\" class=\"dataframe\">\n",
       "  <thead>\n",
       "    <tr style=\"text-align: right;\">\n",
       "      <th></th>\n",
       "      <th>Unnamed: 0</th>\n",
       "      <th>From</th>\n",
       "      <th>To</th>\n",
       "      <th>Booking_date</th>\n",
       "      <th>Journey_date</th>\n",
       "      <th>Airline</th>\n",
       "      <th>Code</th>\n",
       "      <th>Departure</th>\n",
       "      <th>Arrival</th>\n",
       "      <th>Duration</th>\n",
       "      <th>Stops</th>\n",
       "      <th>Price</th>\n",
       "      <th>Booking_Hour</th>\n",
       "      <th>Booking_DateTime</th>\n",
       "    </tr>\n",
       "  </thead>\n",
       "  <tbody>\n",
       "    <tr>\n",
       "      <th>0</th>\n",
       "      <td>0</td>\n",
       "      <td>Delhi</td>\n",
       "      <td>Bangalore</td>\n",
       "      <td>2022-06-23</td>\n",
       "      <td>2022-06-23</td>\n",
       "      <td>Air India</td>\n",
       "      <td>AI-504</td>\n",
       "      <td>21:15</td>\n",
       "      <td>00:05\\r\\n+1D</td>\n",
       "      <td>2h 50m</td>\n",
       "      <td>non-stop</td>\n",
       "      <td>9420</td>\n",
       "      <td>6</td>\n",
       "      <td>2022-06-23 06:00:00</td>\n",
       "    </tr>\n",
       "    <tr>\n",
       "      <th>1</th>\n",
       "      <td>1</td>\n",
       "      <td>Delhi</td>\n",
       "      <td>Bangalore</td>\n",
       "      <td>2022-06-23</td>\n",
       "      <td>2022-06-23</td>\n",
       "      <td>IndiGo</td>\n",
       "      <td>6E-2131</td>\n",
       "      <td>21:30</td>\n",
       "      <td>00:15\\r\\n+1D</td>\n",
       "      <td>2h 45m</td>\n",
       "      <td>non-stop</td>\n",
       "      <td>9419</td>\n",
       "      <td>19</td>\n",
       "      <td>2022-06-23 19:00:00</td>\n",
       "    </tr>\n",
       "  </tbody>\n",
       "</table>\n",
       "</div>"
      ],
      "text/plain": [
       "   Unnamed: 0   From         To Booking_date Journey_date    Airline     Code  \\\n",
       "0           0  Delhi  Bangalore   2022-06-23   2022-06-23  Air India   AI-504   \n",
       "1           1  Delhi  Bangalore   2022-06-23   2022-06-23     IndiGo  6E-2131   \n",
       "\n",
       "  Departure       Arrival Duration     Stops  Price  Booking_Hour  \\\n",
       "0     21:15  00:05\\r\\n+1D   2h 50m  non-stop   9420             6   \n",
       "1     21:30  00:15\\r\\n+1D   2h 45m  non-stop   9419            19   \n",
       "\n",
       "     Booking_DateTime  \n",
       "0 2022-06-23 06:00:00  \n",
       "1 2022-06-23 19:00:00  "
      ]
     },
     "execution_count": 59,
     "metadata": {},
     "output_type": "execute_result"
    }
   ],
   "source": [
    "df.head(2)"
   ]
  },
  {
   "cell_type": "markdown",
   "id": "ae680524-f388-40cc-a727-a70d73cb957b",
   "metadata": {},
   "source": [
    "**Define booking slot function**"
   ]
  },
  {
   "cell_type": "code",
   "execution_count": 60,
   "id": "4b037fba-c883-49e6-b2dd-b1f398ea556b",
   "metadata": {},
   "outputs": [],
   "source": [
    "def get_booking_slot(hour):\n",
    "    if 5 <= hour < 12:\n",
    "        return 'Morning'\n",
    "    elif 12 <= hour < 17:\n",
    "        return 'Afternoon'\n",
    "    elif 17 <= hour < 21:\n",
    "        return 'Evening'\n",
    "    else:\n",
    "        return 'Night'"
   ]
  },
  {
   "cell_type": "code",
   "execution_count": 61,
   "id": "96cf447e-cb4c-4d2d-85d2-fc30b9f6f095",
   "metadata": {},
   "outputs": [],
   "source": [
    "df['Booking_Slot'] = df['Booking_Hour'].apply(get_booking_slot)"
   ]
  },
  {
   "cell_type": "code",
   "execution_count": 62,
   "id": "dcc9fb41-59ca-428c-abcf-d47d1429ea14",
   "metadata": {},
   "outputs": [
    {
     "data": {
      "text/html": [
       "<div>\n",
       "<style scoped>\n",
       "    .dataframe tbody tr th:only-of-type {\n",
       "        vertical-align: middle;\n",
       "    }\n",
       "\n",
       "    .dataframe tbody tr th {\n",
       "        vertical-align: top;\n",
       "    }\n",
       "\n",
       "    .dataframe thead th {\n",
       "        text-align: right;\n",
       "    }\n",
       "</style>\n",
       "<table border=\"1\" class=\"dataframe\">\n",
       "  <thead>\n",
       "    <tr style=\"text-align: right;\">\n",
       "      <th></th>\n",
       "      <th>Unnamed: 0</th>\n",
       "      <th>From</th>\n",
       "      <th>To</th>\n",
       "      <th>Booking_date</th>\n",
       "      <th>Journey_date</th>\n",
       "      <th>Airline</th>\n",
       "      <th>Code</th>\n",
       "      <th>Departure</th>\n",
       "      <th>Arrival</th>\n",
       "      <th>Duration</th>\n",
       "      <th>Stops</th>\n",
       "      <th>Price</th>\n",
       "      <th>Booking_Hour</th>\n",
       "      <th>Booking_DateTime</th>\n",
       "      <th>Booking_Slot</th>\n",
       "    </tr>\n",
       "  </thead>\n",
       "  <tbody>\n",
       "    <tr>\n",
       "      <th>0</th>\n",
       "      <td>0</td>\n",
       "      <td>Delhi</td>\n",
       "      <td>Bangalore</td>\n",
       "      <td>2022-06-23</td>\n",
       "      <td>2022-06-23</td>\n",
       "      <td>Air India</td>\n",
       "      <td>AI-504</td>\n",
       "      <td>21:15</td>\n",
       "      <td>00:05\\r\\n+1D</td>\n",
       "      <td>2h 50m</td>\n",
       "      <td>non-stop</td>\n",
       "      <td>9420</td>\n",
       "      <td>6</td>\n",
       "      <td>2022-06-23 06:00:00</td>\n",
       "      <td>Morning</td>\n",
       "    </tr>\n",
       "    <tr>\n",
       "      <th>1</th>\n",
       "      <td>1</td>\n",
       "      <td>Delhi</td>\n",
       "      <td>Bangalore</td>\n",
       "      <td>2022-06-23</td>\n",
       "      <td>2022-06-23</td>\n",
       "      <td>IndiGo</td>\n",
       "      <td>6E-2131</td>\n",
       "      <td>21:30</td>\n",
       "      <td>00:15\\r\\n+1D</td>\n",
       "      <td>2h 45m</td>\n",
       "      <td>non-stop</td>\n",
       "      <td>9419</td>\n",
       "      <td>19</td>\n",
       "      <td>2022-06-23 19:00:00</td>\n",
       "      <td>Evening</td>\n",
       "    </tr>\n",
       "  </tbody>\n",
       "</table>\n",
       "</div>"
      ],
      "text/plain": [
       "   Unnamed: 0   From         To Booking_date Journey_date    Airline     Code  \\\n",
       "0           0  Delhi  Bangalore   2022-06-23   2022-06-23  Air India   AI-504   \n",
       "1           1  Delhi  Bangalore   2022-06-23   2022-06-23     IndiGo  6E-2131   \n",
       "\n",
       "  Departure       Arrival Duration     Stops  Price  Booking_Hour  \\\n",
       "0     21:15  00:05\\r\\n+1D   2h 50m  non-stop   9420             6   \n",
       "1     21:30  00:15\\r\\n+1D   2h 45m  non-stop   9419            19   \n",
       "\n",
       "     Booking_DateTime Booking_Slot  \n",
       "0 2022-06-23 06:00:00      Morning  \n",
       "1 2022-06-23 19:00:00      Evening  "
      ]
     },
     "execution_count": 62,
     "metadata": {},
     "output_type": "execute_result"
    }
   ],
   "source": [
    "df.head(2)"
   ]
  },
  {
   "cell_type": "markdown",
   "id": "4ec05276-ca2e-461c-8d35-f6b60960835d",
   "metadata": {},
   "source": [
    "**Calculation of lead time in days**\n"
   ]
  },
  {
   "cell_type": "code",
   "execution_count": 63,
   "id": "662cd809-cf0b-4e47-bcf4-ed4f07715bd7",
   "metadata": {},
   "outputs": [],
   "source": [
    "df['Lead_Time_Days'] = (df['Journey_date'] - df['Booking_date']).dt.days"
   ]
  },
  {
   "cell_type": "code",
   "execution_count": 64,
   "id": "a683a4e6-b85e-48a7-91e9-f071901bbee1",
   "metadata": {},
   "outputs": [
    {
     "data": {
      "text/html": [
       "<div>\n",
       "<style scoped>\n",
       "    .dataframe tbody tr th:only-of-type {\n",
       "        vertical-align: middle;\n",
       "    }\n",
       "\n",
       "    .dataframe tbody tr th {\n",
       "        vertical-align: top;\n",
       "    }\n",
       "\n",
       "    .dataframe thead th {\n",
       "        text-align: right;\n",
       "    }\n",
       "</style>\n",
       "<table border=\"1\" class=\"dataframe\">\n",
       "  <thead>\n",
       "    <tr style=\"text-align: right;\">\n",
       "      <th></th>\n",
       "      <th>Unnamed: 0</th>\n",
       "      <th>From</th>\n",
       "      <th>To</th>\n",
       "      <th>Booking_date</th>\n",
       "      <th>Journey_date</th>\n",
       "      <th>Airline</th>\n",
       "      <th>Code</th>\n",
       "      <th>Departure</th>\n",
       "      <th>Arrival</th>\n",
       "      <th>Duration</th>\n",
       "      <th>Stops</th>\n",
       "      <th>Price</th>\n",
       "      <th>Booking_Hour</th>\n",
       "      <th>Booking_DateTime</th>\n",
       "      <th>Booking_Slot</th>\n",
       "      <th>Lead_Time_Days</th>\n",
       "    </tr>\n",
       "  </thead>\n",
       "  <tbody>\n",
       "    <tr>\n",
       "      <th>0</th>\n",
       "      <td>0</td>\n",
       "      <td>Delhi</td>\n",
       "      <td>Bangalore</td>\n",
       "      <td>2022-06-23</td>\n",
       "      <td>2022-06-23</td>\n",
       "      <td>Air India</td>\n",
       "      <td>AI-504</td>\n",
       "      <td>21:15</td>\n",
       "      <td>00:05\\r\\n+1D</td>\n",
       "      <td>2h 50m</td>\n",
       "      <td>non-stop</td>\n",
       "      <td>9420</td>\n",
       "      <td>6</td>\n",
       "      <td>2022-06-23 06:00:00</td>\n",
       "      <td>Morning</td>\n",
       "      <td>0</td>\n",
       "    </tr>\n",
       "    <tr>\n",
       "      <th>1</th>\n",
       "      <td>1</td>\n",
       "      <td>Delhi</td>\n",
       "      <td>Bangalore</td>\n",
       "      <td>2022-06-23</td>\n",
       "      <td>2022-06-23</td>\n",
       "      <td>IndiGo</td>\n",
       "      <td>6E-2131</td>\n",
       "      <td>21:30</td>\n",
       "      <td>00:15\\r\\n+1D</td>\n",
       "      <td>2h 45m</td>\n",
       "      <td>non-stop</td>\n",
       "      <td>9419</td>\n",
       "      <td>19</td>\n",
       "      <td>2022-06-23 19:00:00</td>\n",
       "      <td>Evening</td>\n",
       "      <td>0</td>\n",
       "    </tr>\n",
       "  </tbody>\n",
       "</table>\n",
       "</div>"
      ],
      "text/plain": [
       "   Unnamed: 0   From         To Booking_date Journey_date    Airline     Code  \\\n",
       "0           0  Delhi  Bangalore   2022-06-23   2022-06-23  Air India   AI-504   \n",
       "1           1  Delhi  Bangalore   2022-06-23   2022-06-23     IndiGo  6E-2131   \n",
       "\n",
       "  Departure       Arrival Duration     Stops  Price  Booking_Hour  \\\n",
       "0     21:15  00:05\\r\\n+1D   2h 50m  non-stop   9420             6   \n",
       "1     21:30  00:15\\r\\n+1D   2h 45m  non-stop   9419            19   \n",
       "\n",
       "     Booking_DateTime Booking_Slot  Lead_Time_Days  \n",
       "0 2022-06-23 06:00:00      Morning               0  \n",
       "1 2022-06-23 19:00:00      Evening               0  "
      ]
     },
     "execution_count": 64,
     "metadata": {},
     "output_type": "execute_result"
    }
   ],
   "source": [
    "df.head(2)"
   ]
  },
  {
   "cell_type": "markdown",
   "id": "c4dc742b-633d-4c1c-bbf0-115088b09444",
   "metadata": {},
   "source": [
    "**Saving Cleaned Dataset**"
   ]
  },
  {
   "cell_type": "code",
   "execution_count": 65,
   "id": "73763ba0-e6ba-4068-9ae3-a400a6531b56",
   "metadata": {},
   "outputs": [
    {
     "name": "stdout",
     "output_type": "stream",
     "text": [
      "Cleaned dataset saved as flight_cleaned.csv\n"
     ]
    }
   ],
   "source": [
    "df.to_csv(\"flight_cleaned.csv\", index=False)\n",
    "print(\"Cleaned dataset saved as flight_cleaned.csv\")"
   ]
  },
  {
   "cell_type": "markdown",
   "id": "74bbd53c-a808-4869-a677-fb22435a4ba9",
   "metadata": {},
   "source": [
    "# Feature Engineering"
   ]
  },
  {
   "cell_type": "markdown",
   "id": "a56fba70-6095-4a0d-8dba-667ae870dda1",
   "metadata": {},
   "source": [
    "**Converting Duration in Minutes**"
   ]
  },
  {
   "cell_type": "code",
   "execution_count": 66,
   "id": "f3f70f49-5ea7-4b0a-b009-19aa5860a885",
   "metadata": {},
   "outputs": [],
   "source": [
    "def convert_duration(duration):\n",
    "    if 'h' in duration and 'm' in duration:\n",
    "        h, m = duration.replace('h', '').replace('m', '').split()\n",
    "        return int(h) * 60 + int(m)\n",
    "    elif 'h' in duration:\n",
    "        h = duration.replace('h', '').strip()\n",
    "        return int(h) * 60\n",
    "    elif 'm' in duration:\n",
    "        m = duration.replace('m', '').strip()\n",
    "        return int(m)\n",
    "    else:\n",
    "        return 0"
   ]
  },
  {
   "cell_type": "code",
   "execution_count": 67,
   "id": "117fc2fc-0ea9-459e-b713-f25ee93ec3cd",
   "metadata": {},
   "outputs": [],
   "source": [
    "df['Duration_mins'] = df['Duration'].apply(convert_duration)"
   ]
  },
  {
   "cell_type": "code",
   "execution_count": 68,
   "id": "9192012d-982e-40da-b682-12e73d52e4ff",
   "metadata": {},
   "outputs": [
    {
     "data": {
      "text/html": [
       "<div>\n",
       "<style scoped>\n",
       "    .dataframe tbody tr th:only-of-type {\n",
       "        vertical-align: middle;\n",
       "    }\n",
       "\n",
       "    .dataframe tbody tr th {\n",
       "        vertical-align: top;\n",
       "    }\n",
       "\n",
       "    .dataframe thead th {\n",
       "        text-align: right;\n",
       "    }\n",
       "</style>\n",
       "<table border=\"1\" class=\"dataframe\">\n",
       "  <thead>\n",
       "    <tr style=\"text-align: right;\">\n",
       "      <th></th>\n",
       "      <th>Unnamed: 0</th>\n",
       "      <th>From</th>\n",
       "      <th>To</th>\n",
       "      <th>Booking_date</th>\n",
       "      <th>Journey_date</th>\n",
       "      <th>Airline</th>\n",
       "      <th>Code</th>\n",
       "      <th>Departure</th>\n",
       "      <th>Arrival</th>\n",
       "      <th>Duration</th>\n",
       "      <th>Stops</th>\n",
       "      <th>Price</th>\n",
       "      <th>Booking_Hour</th>\n",
       "      <th>Booking_DateTime</th>\n",
       "      <th>Booking_Slot</th>\n",
       "      <th>Lead_Time_Days</th>\n",
       "      <th>Duration_mins</th>\n",
       "    </tr>\n",
       "  </thead>\n",
       "  <tbody>\n",
       "    <tr>\n",
       "      <th>0</th>\n",
       "      <td>0</td>\n",
       "      <td>Delhi</td>\n",
       "      <td>Bangalore</td>\n",
       "      <td>2022-06-23</td>\n",
       "      <td>2022-06-23</td>\n",
       "      <td>Air India</td>\n",
       "      <td>AI-504</td>\n",
       "      <td>21:15</td>\n",
       "      <td>00:05\\r\\n+1D</td>\n",
       "      <td>2h 50m</td>\n",
       "      <td>non-stop</td>\n",
       "      <td>9420</td>\n",
       "      <td>6</td>\n",
       "      <td>2022-06-23 06:00:00</td>\n",
       "      <td>Morning</td>\n",
       "      <td>0</td>\n",
       "      <td>170</td>\n",
       "    </tr>\n",
       "    <tr>\n",
       "      <th>1</th>\n",
       "      <td>1</td>\n",
       "      <td>Delhi</td>\n",
       "      <td>Bangalore</td>\n",
       "      <td>2022-06-23</td>\n",
       "      <td>2022-06-23</td>\n",
       "      <td>IndiGo</td>\n",
       "      <td>6E-2131</td>\n",
       "      <td>21:30</td>\n",
       "      <td>00:15\\r\\n+1D</td>\n",
       "      <td>2h 45m</td>\n",
       "      <td>non-stop</td>\n",
       "      <td>9419</td>\n",
       "      <td>19</td>\n",
       "      <td>2022-06-23 19:00:00</td>\n",
       "      <td>Evening</td>\n",
       "      <td>0</td>\n",
       "      <td>165</td>\n",
       "    </tr>\n",
       "  </tbody>\n",
       "</table>\n",
       "</div>"
      ],
      "text/plain": [
       "   Unnamed: 0   From         To Booking_date Journey_date    Airline     Code  \\\n",
       "0           0  Delhi  Bangalore   2022-06-23   2022-06-23  Air India   AI-504   \n",
       "1           1  Delhi  Bangalore   2022-06-23   2022-06-23     IndiGo  6E-2131   \n",
       "\n",
       "  Departure       Arrival Duration     Stops  Price  Booking_Hour  \\\n",
       "0     21:15  00:05\\r\\n+1D   2h 50m  non-stop   9420             6   \n",
       "1     21:30  00:15\\r\\n+1D   2h 45m  non-stop   9419            19   \n",
       "\n",
       "     Booking_DateTime Booking_Slot  Lead_Time_Days  Duration_mins  \n",
       "0 2022-06-23 06:00:00      Morning               0            170  \n",
       "1 2022-06-23 19:00:00      Evening               0            165  "
      ]
     },
     "execution_count": 68,
     "metadata": {},
     "output_type": "execute_result"
    }
   ],
   "source": [
    "df.head(2)"
   ]
  },
  {
   "cell_type": "markdown",
   "id": "b68e47b2-c5f4-45ea-8a81-9b63c259c007",
   "metadata": {},
   "source": [
    "**Converting Stops to numerical variables**"
   ]
  },
  {
   "cell_type": "code",
   "execution_count": 69,
   "id": "52a9374f-c8e5-4f3a-ab50-aa1c25da706d",
   "metadata": {},
   "outputs": [],
   "source": [
    "def encode_stops(stop):\n",
    "    stop = stop.lower().strip()\n",
    "    if 'non-stop' in stop:\n",
    "        return 0\n",
    "    elif '1 stop' in stop:\n",
    "        return 1\n",
    "    elif '2 stops' in stop:\n",
    "        return 2\n",
    "    elif '3 stops' in stop:\n",
    "        return 3\n",
    "    else:\n",
    "        return -1 "
   ]
  },
  {
   "cell_type": "code",
   "execution_count": 70,
   "id": "096f4e0c-a944-45de-9fb9-bf36fb643132",
   "metadata": {},
   "outputs": [],
   "source": [
    "df['Stops_num'] = df['Stops'].apply(encode_stops)"
   ]
  },
  {
   "cell_type": "code",
   "execution_count": 71,
   "id": "7218c546-14f7-4749-8afc-bafd6fa454f2",
   "metadata": {},
   "outputs": [
    {
     "data": {
      "text/html": [
       "<div>\n",
       "<style scoped>\n",
       "    .dataframe tbody tr th:only-of-type {\n",
       "        vertical-align: middle;\n",
       "    }\n",
       "\n",
       "    .dataframe tbody tr th {\n",
       "        vertical-align: top;\n",
       "    }\n",
       "\n",
       "    .dataframe thead th {\n",
       "        text-align: right;\n",
       "    }\n",
       "</style>\n",
       "<table border=\"1\" class=\"dataframe\">\n",
       "  <thead>\n",
       "    <tr style=\"text-align: right;\">\n",
       "      <th></th>\n",
       "      <th>Unnamed: 0</th>\n",
       "      <th>From</th>\n",
       "      <th>To</th>\n",
       "      <th>Booking_date</th>\n",
       "      <th>Journey_date</th>\n",
       "      <th>Airline</th>\n",
       "      <th>Code</th>\n",
       "      <th>Departure</th>\n",
       "      <th>Arrival</th>\n",
       "      <th>Duration</th>\n",
       "      <th>Stops</th>\n",
       "      <th>Price</th>\n",
       "      <th>Booking_Hour</th>\n",
       "      <th>Booking_DateTime</th>\n",
       "      <th>Booking_Slot</th>\n",
       "      <th>Lead_Time_Days</th>\n",
       "      <th>Duration_mins</th>\n",
       "      <th>Stops_num</th>\n",
       "    </tr>\n",
       "  </thead>\n",
       "  <tbody>\n",
       "    <tr>\n",
       "      <th>0</th>\n",
       "      <td>0</td>\n",
       "      <td>Delhi</td>\n",
       "      <td>Bangalore</td>\n",
       "      <td>2022-06-23</td>\n",
       "      <td>2022-06-23</td>\n",
       "      <td>Air India</td>\n",
       "      <td>AI-504</td>\n",
       "      <td>21:15</td>\n",
       "      <td>00:05\\r\\n+1D</td>\n",
       "      <td>2h 50m</td>\n",
       "      <td>non-stop</td>\n",
       "      <td>9420</td>\n",
       "      <td>6</td>\n",
       "      <td>2022-06-23 06:00:00</td>\n",
       "      <td>Morning</td>\n",
       "      <td>0</td>\n",
       "      <td>170</td>\n",
       "      <td>0</td>\n",
       "    </tr>\n",
       "    <tr>\n",
       "      <th>1</th>\n",
       "      <td>1</td>\n",
       "      <td>Delhi</td>\n",
       "      <td>Bangalore</td>\n",
       "      <td>2022-06-23</td>\n",
       "      <td>2022-06-23</td>\n",
       "      <td>IndiGo</td>\n",
       "      <td>6E-2131</td>\n",
       "      <td>21:30</td>\n",
       "      <td>00:15\\r\\n+1D</td>\n",
       "      <td>2h 45m</td>\n",
       "      <td>non-stop</td>\n",
       "      <td>9419</td>\n",
       "      <td>19</td>\n",
       "      <td>2022-06-23 19:00:00</td>\n",
       "      <td>Evening</td>\n",
       "      <td>0</td>\n",
       "      <td>165</td>\n",
       "      <td>0</td>\n",
       "    </tr>\n",
       "    <tr>\n",
       "      <th>2</th>\n",
       "      <td>2</td>\n",
       "      <td>Delhi</td>\n",
       "      <td>Bangalore</td>\n",
       "      <td>2022-06-23</td>\n",
       "      <td>2022-06-23</td>\n",
       "      <td>IndiGo</td>\n",
       "      <td>6E-6565</td>\n",
       "      <td>22:55</td>\n",
       "      <td>01:45\\r\\n+1D</td>\n",
       "      <td>2h 50m</td>\n",
       "      <td>non-stop</td>\n",
       "      <td>9419</td>\n",
       "      <td>14</td>\n",
       "      <td>2022-06-23 14:00:00</td>\n",
       "      <td>Afternoon</td>\n",
       "      <td>0</td>\n",
       "      <td>170</td>\n",
       "      <td>0</td>\n",
       "    </tr>\n",
       "    <tr>\n",
       "      <th>3</th>\n",
       "      <td>3</td>\n",
       "      <td>Delhi</td>\n",
       "      <td>Bangalore</td>\n",
       "      <td>2022-06-23</td>\n",
       "      <td>2022-06-23</td>\n",
       "      <td>Air India</td>\n",
       "      <td>AI-605</td>\n",
       "      <td>21:15</td>\n",
       "      <td>07:50\\r\\n+1D</td>\n",
       "      <td>10h 35m</td>\n",
       "      <td>1 stop</td>\n",
       "      <td>14775</td>\n",
       "      <td>10</td>\n",
       "      <td>2022-06-23 10:00:00</td>\n",
       "      <td>Morning</td>\n",
       "      <td>0</td>\n",
       "      <td>635</td>\n",
       "      <td>1</td>\n",
       "    </tr>\n",
       "    <tr>\n",
       "      <th>4</th>\n",
       "      <td>4</td>\n",
       "      <td>Delhi</td>\n",
       "      <td>Bangalore</td>\n",
       "      <td>2022-06-23</td>\n",
       "      <td>2022-06-23</td>\n",
       "      <td>Air India</td>\n",
       "      <td>AI-605</td>\n",
       "      <td>21:15</td>\n",
       "      <td>18:20\\r\\n+1D</td>\n",
       "      <td>21h 5m</td>\n",
       "      <td>1 stop</td>\n",
       "      <td>14985</td>\n",
       "      <td>7</td>\n",
       "      <td>2022-06-23 07:00:00</td>\n",
       "      <td>Morning</td>\n",
       "      <td>0</td>\n",
       "      <td>1265</td>\n",
       "      <td>1</td>\n",
       "    </tr>\n",
       "  </tbody>\n",
       "</table>\n",
       "</div>"
      ],
      "text/plain": [
       "   Unnamed: 0   From         To Booking_date Journey_date    Airline     Code  \\\n",
       "0           0  Delhi  Bangalore   2022-06-23   2022-06-23  Air India   AI-504   \n",
       "1           1  Delhi  Bangalore   2022-06-23   2022-06-23     IndiGo  6E-2131   \n",
       "2           2  Delhi  Bangalore   2022-06-23   2022-06-23     IndiGo  6E-6565   \n",
       "3           3  Delhi  Bangalore   2022-06-23   2022-06-23  Air India   AI-605   \n",
       "4           4  Delhi  Bangalore   2022-06-23   2022-06-23  Air India   AI-605   \n",
       "\n",
       "  Departure       Arrival Duration     Stops  Price  Booking_Hour  \\\n",
       "0     21:15  00:05\\r\\n+1D   2h 50m  non-stop   9420             6   \n",
       "1     21:30  00:15\\r\\n+1D   2h 45m  non-stop   9419            19   \n",
       "2     22:55  01:45\\r\\n+1D   2h 50m  non-stop   9419            14   \n",
       "3     21:15  07:50\\r\\n+1D  10h 35m    1 stop  14775            10   \n",
       "4     21:15  18:20\\r\\n+1D   21h 5m    1 stop  14985             7   \n",
       "\n",
       "     Booking_DateTime Booking_Slot  Lead_Time_Days  Duration_mins  Stops_num  \n",
       "0 2022-06-23 06:00:00      Morning               0            170          0  \n",
       "1 2022-06-23 19:00:00      Evening               0            165          0  \n",
       "2 2022-06-23 14:00:00    Afternoon               0            170          0  \n",
       "3 2022-06-23 10:00:00      Morning               0            635          1  \n",
       "4 2022-06-23 07:00:00      Morning               0           1265          1  "
      ]
     },
     "execution_count": 71,
     "metadata": {},
     "output_type": "execute_result"
    }
   ],
   "source": [
    "df.head(5)"
   ]
  },
  {
   "cell_type": "markdown",
   "id": "dde4e12d-a623-4a47-bd07-843bb41414b1",
   "metadata": {},
   "source": [
    "**Drop unnecessary columns**"
   ]
  },
  {
   "cell_type": "code",
   "execution_count": 72,
   "id": "87290f63-a3f2-4af0-9729-9780c20965ce",
   "metadata": {},
   "outputs": [],
   "source": [
    "df.drop(['Unnamed: 0','Code', 'Departure', 'Arrival', 'Duration', 'Stops', 'Booking_DateTime'], axis=1, inplace=True)"
   ]
  },
  {
   "cell_type": "code",
   "execution_count": 73,
   "id": "70d4937f-0299-4bba-beb5-db357a6b7745",
   "metadata": {},
   "outputs": [
    {
     "data": {
      "text/html": [
       "<div>\n",
       "<style scoped>\n",
       "    .dataframe tbody tr th:only-of-type {\n",
       "        vertical-align: middle;\n",
       "    }\n",
       "\n",
       "    .dataframe tbody tr th {\n",
       "        vertical-align: top;\n",
       "    }\n",
       "\n",
       "    .dataframe thead th {\n",
       "        text-align: right;\n",
       "    }\n",
       "</style>\n",
       "<table border=\"1\" class=\"dataframe\">\n",
       "  <thead>\n",
       "    <tr style=\"text-align: right;\">\n",
       "      <th></th>\n",
       "      <th>From</th>\n",
       "      <th>To</th>\n",
       "      <th>Booking_date</th>\n",
       "      <th>Journey_date</th>\n",
       "      <th>Airline</th>\n",
       "      <th>Price</th>\n",
       "      <th>Booking_Hour</th>\n",
       "      <th>Booking_Slot</th>\n",
       "      <th>Lead_Time_Days</th>\n",
       "      <th>Duration_mins</th>\n",
       "      <th>Stops_num</th>\n",
       "    </tr>\n",
       "  </thead>\n",
       "  <tbody>\n",
       "    <tr>\n",
       "      <th>0</th>\n",
       "      <td>Delhi</td>\n",
       "      <td>Bangalore</td>\n",
       "      <td>2022-06-23</td>\n",
       "      <td>2022-06-23</td>\n",
       "      <td>Air India</td>\n",
       "      <td>9420</td>\n",
       "      <td>6</td>\n",
       "      <td>Morning</td>\n",
       "      <td>0</td>\n",
       "      <td>170</td>\n",
       "      <td>0</td>\n",
       "    </tr>\n",
       "    <tr>\n",
       "      <th>1</th>\n",
       "      <td>Delhi</td>\n",
       "      <td>Bangalore</td>\n",
       "      <td>2022-06-23</td>\n",
       "      <td>2022-06-23</td>\n",
       "      <td>IndiGo</td>\n",
       "      <td>9419</td>\n",
       "      <td>19</td>\n",
       "      <td>Evening</td>\n",
       "      <td>0</td>\n",
       "      <td>165</td>\n",
       "      <td>0</td>\n",
       "    </tr>\n",
       "  </tbody>\n",
       "</table>\n",
       "</div>"
      ],
      "text/plain": [
       "    From         To Booking_date Journey_date    Airline  Price  Booking_Hour  \\\n",
       "0  Delhi  Bangalore   2022-06-23   2022-06-23  Air India   9420             6   \n",
       "1  Delhi  Bangalore   2022-06-23   2022-06-23     IndiGo   9419            19   \n",
       "\n",
       "  Booking_Slot  Lead_Time_Days  Duration_mins  Stops_num  \n",
       "0      Morning               0            170          0  \n",
       "1      Evening               0            165          0  "
      ]
     },
     "execution_count": 73,
     "metadata": {},
     "output_type": "execute_result"
    }
   ],
   "source": [
    "df.head(2)"
   ]
  },
  {
   "cell_type": "markdown",
   "id": "53c6b160-f4b1-4f3f-9990-d8391a87c814",
   "metadata": {},
   "source": [
    "**Simulating Competitor Price**"
   ]
  },
  {
   "cell_type": "code",
   "execution_count": 74,
   "id": "bea6efdb-3009-480d-91cd-f2d090886ca7",
   "metadata": {},
   "outputs": [],
   "source": [
    "def simulate_competitor_price(row):\n",
    "    base = row['Price']\n",
    "    variation = np.random.uniform(0.9, 1.1)  # 10% range\n",
    "    simulated_price = base * variation\n",
    "    if row['Stops_num'] > 0:\n",
    "        simulated_price += random.randint(200, 500)\n",
    "    return round(simulated_price)"
   ]
  },
  {
   "cell_type": "code",
   "execution_count": 75,
   "id": "f9af793f-2a3e-472e-a59f-2127a30eaf2e",
   "metadata": {},
   "outputs": [],
   "source": [
    "df['Competitor_Price'] = df.apply(simulate_competitor_price, axis=1)"
   ]
  },
  {
   "cell_type": "code",
   "execution_count": 76,
   "id": "2f29a562-da35-4860-a458-b97b0e8b7aee",
   "metadata": {},
   "outputs": [],
   "source": [
    "df['Price_Diff_vs_Competitor'] = df['Price'] - df['Competitor_Price']"
   ]
  },
  {
   "cell_type": "code",
   "execution_count": 77,
   "id": "021acd22-d89b-4680-ac72-b6c06212a795",
   "metadata": {},
   "outputs": [
    {
     "data": {
      "text/html": [
       "<div>\n",
       "<style scoped>\n",
       "    .dataframe tbody tr th:only-of-type {\n",
       "        vertical-align: middle;\n",
       "    }\n",
       "\n",
       "    .dataframe tbody tr th {\n",
       "        vertical-align: top;\n",
       "    }\n",
       "\n",
       "    .dataframe thead th {\n",
       "        text-align: right;\n",
       "    }\n",
       "</style>\n",
       "<table border=\"1\" class=\"dataframe\">\n",
       "  <thead>\n",
       "    <tr style=\"text-align: right;\">\n",
       "      <th></th>\n",
       "      <th>From</th>\n",
       "      <th>To</th>\n",
       "      <th>Booking_date</th>\n",
       "      <th>Journey_date</th>\n",
       "      <th>Airline</th>\n",
       "      <th>Price</th>\n",
       "      <th>Booking_Hour</th>\n",
       "      <th>Booking_Slot</th>\n",
       "      <th>Lead_Time_Days</th>\n",
       "      <th>Duration_mins</th>\n",
       "      <th>Stops_num</th>\n",
       "      <th>Competitor_Price</th>\n",
       "      <th>Price_Diff_vs_Competitor</th>\n",
       "    </tr>\n",
       "  </thead>\n",
       "  <tbody>\n",
       "    <tr>\n",
       "      <th>0</th>\n",
       "      <td>Delhi</td>\n",
       "      <td>Bangalore</td>\n",
       "      <td>2022-06-23</td>\n",
       "      <td>2022-06-23</td>\n",
       "      <td>Air India</td>\n",
       "      <td>9420</td>\n",
       "      <td>6</td>\n",
       "      <td>Morning</td>\n",
       "      <td>0</td>\n",
       "      <td>170</td>\n",
       "      <td>0</td>\n",
       "      <td>9286</td>\n",
       "      <td>134</td>\n",
       "    </tr>\n",
       "    <tr>\n",
       "      <th>1</th>\n",
       "      <td>Delhi</td>\n",
       "      <td>Bangalore</td>\n",
       "      <td>2022-06-23</td>\n",
       "      <td>2022-06-23</td>\n",
       "      <td>IndiGo</td>\n",
       "      <td>9419</td>\n",
       "      <td>19</td>\n",
       "      <td>Evening</td>\n",
       "      <td>0</td>\n",
       "      <td>165</td>\n",
       "      <td>0</td>\n",
       "      <td>8997</td>\n",
       "      <td>422</td>\n",
       "    </tr>\n",
       "  </tbody>\n",
       "</table>\n",
       "</div>"
      ],
      "text/plain": [
       "    From         To Booking_date Journey_date    Airline  Price  Booking_Hour  \\\n",
       "0  Delhi  Bangalore   2022-06-23   2022-06-23  Air India   9420             6   \n",
       "1  Delhi  Bangalore   2022-06-23   2022-06-23     IndiGo   9419            19   \n",
       "\n",
       "  Booking_Slot  Lead_Time_Days  Duration_mins  Stops_num  Competitor_Price  \\\n",
       "0      Morning               0            170          0              9286   \n",
       "1      Evening               0            165          0              8997   \n",
       "\n",
       "   Price_Diff_vs_Competitor  \n",
       "0                       134  \n",
       "1                       422  "
      ]
     },
     "execution_count": 77,
     "metadata": {},
     "output_type": "execute_result"
    }
   ],
   "source": [
    "df.head(2)"
   ]
  },
  {
   "cell_type": "markdown",
   "id": "1f9ce6fd-65aa-4aef-a23f-877bfa33659a",
   "metadata": {},
   "source": [
    "# Model Training"
   ]
  },
  {
   "cell_type": "code",
   "execution_count": 78,
   "id": "4b8cfc68-f625-4ca7-9587-1400a3bf5c44",
   "metadata": {},
   "outputs": [],
   "source": [
    "x = df.drop(columns=['Price', 'Booking_date', 'Journey_date'])\n",
    "y = df['Price']\n"
   ]
  },
  {
   "cell_type": "code",
   "execution_count": 79,
   "id": "d217b499-e812-4397-942e-76947707605c",
   "metadata": {},
   "outputs": [],
   "source": [
    "from sklearn.model_selection import train_test_split"
   ]
  },
  {
   "cell_type": "code",
   "execution_count": 80,
   "id": "a5f61bb1-85e2-441b-a3e1-d95bb544cf91",
   "metadata": {},
   "outputs": [],
   "source": [
    "x_train, x_test, y_train, y_test = train_test_split(x, y, test_size=0.2, random_state=42)"
   ]
  },
  {
   "cell_type": "code",
   "execution_count": 81,
   "id": "48fd546d-5168-4bd3-9ed3-97b5cae0f23e",
   "metadata": {},
   "outputs": [],
   "source": [
    "from sklearn.ensemble import RandomForestRegressor\n",
    "from xgboost import XGBRegressor\n",
    "from sklearn.metrics import mean_absolute_error, r2_score"
   ]
  },
  {
   "cell_type": "markdown",
   "id": "60619922-6596-45b4-b30b-bb44d82ed71e",
   "metadata": {},
   "source": [
    "# Random Forest"
   ]
  },
  {
   "cell_type": "code",
   "execution_count": 82,
   "id": "ac954183-234a-4115-b06a-16fe48cfadc3",
   "metadata": {},
   "outputs": [],
   "source": [
    "rf = RandomForestRegressor(n_estimators=100, random_state=42)"
   ]
  },
  {
   "cell_type": "code",
   "execution_count": 83,
   "id": "e24d8474-2d1a-45df-8565-08485236653e",
   "metadata": {},
   "outputs": [
    {
     "ename": "ValueError",
     "evalue": "could not convert string to float: 'Delhi'",
     "output_type": "error",
     "traceback": [
      "\u001b[1;31m---------------------------------------------------------------------------\u001b[0m",
      "\u001b[1;31mValueError\u001b[0m                                Traceback (most recent call last)",
      "\u001b[1;32m~\\AppData\\Local\\Temp\\ipykernel_2704\\3512478466.py\u001b[0m in \u001b[0;36m?\u001b[1;34m()\u001b[0m\n\u001b[1;32m----> 1\u001b[1;33m \u001b[0mrf\u001b[0m\u001b[1;33m.\u001b[0m\u001b[0mfit\u001b[0m\u001b[1;33m(\u001b[0m\u001b[0mx_train\u001b[0m\u001b[1;33m,\u001b[0m \u001b[0my_train\u001b[0m\u001b[1;33m)\u001b[0m\u001b[1;33m\u001b[0m\u001b[1;33m\u001b[0m\u001b[0m\n\u001b[0m",
      "\u001b[1;32m~\\anaconda3\\Anaconda\\Lib\\site-packages\\sklearn\\base.py\u001b[0m in \u001b[0;36m?\u001b[1;34m(estimator, *args, **kwargs)\u001b[0m\n\u001b[0;32m   1469\u001b[0m                 skip_parameter_validation=(\n\u001b[0;32m   1470\u001b[0m                     \u001b[0mprefer_skip_nested_validation\u001b[0m \u001b[1;32mor\u001b[0m \u001b[0mglobal_skip_validation\u001b[0m\u001b[1;33m\u001b[0m\u001b[1;33m\u001b[0m\u001b[0m\n\u001b[0;32m   1471\u001b[0m                 \u001b[1;33m)\u001b[0m\u001b[1;33m\u001b[0m\u001b[1;33m\u001b[0m\u001b[0m\n\u001b[0;32m   1472\u001b[0m             \u001b[1;33m)\u001b[0m\u001b[1;33m:\u001b[0m\u001b[1;33m\u001b[0m\u001b[1;33m\u001b[0m\u001b[0m\n\u001b[1;32m-> 1473\u001b[1;33m                 \u001b[1;32mreturn\u001b[0m \u001b[0mfit_method\u001b[0m\u001b[1;33m(\u001b[0m\u001b[0mestimator\u001b[0m\u001b[1;33m,\u001b[0m \u001b[1;33m*\u001b[0m\u001b[0margs\u001b[0m\u001b[1;33m,\u001b[0m \u001b[1;33m**\u001b[0m\u001b[0mkwargs\u001b[0m\u001b[1;33m)\u001b[0m\u001b[1;33m\u001b[0m\u001b[1;33m\u001b[0m\u001b[0m\n\u001b[0m",
      "\u001b[1;32m~\\anaconda3\\Anaconda\\Lib\\site-packages\\sklearn\\ensemble\\_forest.py\u001b[0m in \u001b[0;36m?\u001b[1;34m(self, X, y, sample_weight)\u001b[0m\n\u001b[0;32m    359\u001b[0m         \u001b[1;31m# Validate or convert input data\u001b[0m\u001b[1;33m\u001b[0m\u001b[1;33m\u001b[0m\u001b[0m\n\u001b[0;32m    360\u001b[0m         \u001b[1;32mif\u001b[0m \u001b[0missparse\u001b[0m\u001b[1;33m(\u001b[0m\u001b[0my\u001b[0m\u001b[1;33m)\u001b[0m\u001b[1;33m:\u001b[0m\u001b[1;33m\u001b[0m\u001b[1;33m\u001b[0m\u001b[0m\n\u001b[0;32m    361\u001b[0m             \u001b[1;32mraise\u001b[0m \u001b[0mValueError\u001b[0m\u001b[1;33m(\u001b[0m\u001b[1;34m\"sparse multilabel-indicator for y is not supported.\"\u001b[0m\u001b[1;33m)\u001b[0m\u001b[1;33m\u001b[0m\u001b[1;33m\u001b[0m\u001b[0m\n\u001b[0;32m    362\u001b[0m \u001b[1;33m\u001b[0m\u001b[0m\n\u001b[1;32m--> 363\u001b[1;33m         X, y = self._validate_data(\n\u001b[0m\u001b[0;32m    364\u001b[0m             \u001b[0mX\u001b[0m\u001b[1;33m,\u001b[0m\u001b[1;33m\u001b[0m\u001b[1;33m\u001b[0m\u001b[0m\n\u001b[0;32m    365\u001b[0m             \u001b[0my\u001b[0m\u001b[1;33m,\u001b[0m\u001b[1;33m\u001b[0m\u001b[1;33m\u001b[0m\u001b[0m\n\u001b[0;32m    366\u001b[0m             \u001b[0mmulti_output\u001b[0m\u001b[1;33m=\u001b[0m\u001b[1;32mTrue\u001b[0m\u001b[1;33m,\u001b[0m\u001b[1;33m\u001b[0m\u001b[1;33m\u001b[0m\u001b[0m\n",
      "\u001b[1;32m~\\anaconda3\\Anaconda\\Lib\\site-packages\\sklearn\\base.py\u001b[0m in \u001b[0;36m?\u001b[1;34m(self, X, y, reset, validate_separately, cast_to_ndarray, **check_params)\u001b[0m\n\u001b[0;32m    646\u001b[0m                 \u001b[1;32mif\u001b[0m \u001b[1;34m\"estimator\"\u001b[0m \u001b[1;32mnot\u001b[0m \u001b[1;32min\u001b[0m \u001b[0mcheck_y_params\u001b[0m\u001b[1;33m:\u001b[0m\u001b[1;33m\u001b[0m\u001b[1;33m\u001b[0m\u001b[0m\n\u001b[0;32m    647\u001b[0m                     \u001b[0mcheck_y_params\u001b[0m \u001b[1;33m=\u001b[0m \u001b[1;33m{\u001b[0m\u001b[1;33m**\u001b[0m\u001b[0mdefault_check_params\u001b[0m\u001b[1;33m,\u001b[0m \u001b[1;33m**\u001b[0m\u001b[0mcheck_y_params\u001b[0m\u001b[1;33m}\u001b[0m\u001b[1;33m\u001b[0m\u001b[1;33m\u001b[0m\u001b[0m\n\u001b[0;32m    648\u001b[0m                 \u001b[0my\u001b[0m \u001b[1;33m=\u001b[0m \u001b[0mcheck_array\u001b[0m\u001b[1;33m(\u001b[0m\u001b[0my\u001b[0m\u001b[1;33m,\u001b[0m \u001b[0minput_name\u001b[0m\u001b[1;33m=\u001b[0m\u001b[1;34m\"y\"\u001b[0m\u001b[1;33m,\u001b[0m \u001b[1;33m**\u001b[0m\u001b[0mcheck_y_params\u001b[0m\u001b[1;33m)\u001b[0m\u001b[1;33m\u001b[0m\u001b[1;33m\u001b[0m\u001b[0m\n\u001b[0;32m    649\u001b[0m             \u001b[1;32melse\u001b[0m\u001b[1;33m:\u001b[0m\u001b[1;33m\u001b[0m\u001b[1;33m\u001b[0m\u001b[0m\n\u001b[1;32m--> 650\u001b[1;33m                 \u001b[0mX\u001b[0m\u001b[1;33m,\u001b[0m \u001b[0my\u001b[0m \u001b[1;33m=\u001b[0m \u001b[0mcheck_X_y\u001b[0m\u001b[1;33m(\u001b[0m\u001b[0mX\u001b[0m\u001b[1;33m,\u001b[0m \u001b[0my\u001b[0m\u001b[1;33m,\u001b[0m \u001b[1;33m**\u001b[0m\u001b[0mcheck_params\u001b[0m\u001b[1;33m)\u001b[0m\u001b[1;33m\u001b[0m\u001b[1;33m\u001b[0m\u001b[0m\n\u001b[0m\u001b[0;32m    651\u001b[0m             \u001b[0mout\u001b[0m \u001b[1;33m=\u001b[0m \u001b[0mX\u001b[0m\u001b[1;33m,\u001b[0m \u001b[0my\u001b[0m\u001b[1;33m\u001b[0m\u001b[1;33m\u001b[0m\u001b[0m\n\u001b[0;32m    652\u001b[0m \u001b[1;33m\u001b[0m\u001b[0m\n\u001b[0;32m    653\u001b[0m         \u001b[1;32mif\u001b[0m \u001b[1;32mnot\u001b[0m \u001b[0mno_val_X\u001b[0m \u001b[1;32mand\u001b[0m \u001b[0mcheck_params\u001b[0m\u001b[1;33m.\u001b[0m\u001b[0mget\u001b[0m\u001b[1;33m(\u001b[0m\u001b[1;34m\"ensure_2d\"\u001b[0m\u001b[1;33m,\u001b[0m \u001b[1;32mTrue\u001b[0m\u001b[1;33m)\u001b[0m\u001b[1;33m:\u001b[0m\u001b[1;33m\u001b[0m\u001b[1;33m\u001b[0m\u001b[0m\n",
      "\u001b[1;32m~\\anaconda3\\Anaconda\\Lib\\site-packages\\sklearn\\utils\\validation.py\u001b[0m in \u001b[0;36m?\u001b[1;34m(X, y, accept_sparse, accept_large_sparse, dtype, order, copy, force_writeable, force_all_finite, ensure_2d, allow_nd, multi_output, ensure_min_samples, ensure_min_features, y_numeric, estimator)\u001b[0m\n\u001b[0;32m   1297\u001b[0m         raise ValueError(\n\u001b[0;32m   1298\u001b[0m             \u001b[1;33mf\"\u001b[0m\u001b[1;33m{\u001b[0m\u001b[0mestimator_name\u001b[0m\u001b[1;33m}\u001b[0m\u001b[1;33m requires y to be passed, but the target y is None\u001b[0m\u001b[1;33m\"\u001b[0m\u001b[1;33m\u001b[0m\u001b[1;33m\u001b[0m\u001b[0m\n\u001b[0;32m   1299\u001b[0m         \u001b[1;33m)\u001b[0m\u001b[1;33m\u001b[0m\u001b[1;33m\u001b[0m\u001b[0m\n\u001b[0;32m   1300\u001b[0m \u001b[1;33m\u001b[0m\u001b[0m\n\u001b[1;32m-> 1301\u001b[1;33m     X = check_array(\n\u001b[0m\u001b[0;32m   1302\u001b[0m         \u001b[0mX\u001b[0m\u001b[1;33m,\u001b[0m\u001b[1;33m\u001b[0m\u001b[1;33m\u001b[0m\u001b[0m\n\u001b[0;32m   1303\u001b[0m         \u001b[0maccept_sparse\u001b[0m\u001b[1;33m=\u001b[0m\u001b[0maccept_sparse\u001b[0m\u001b[1;33m,\u001b[0m\u001b[1;33m\u001b[0m\u001b[1;33m\u001b[0m\u001b[0m\n\u001b[0;32m   1304\u001b[0m         \u001b[0maccept_large_sparse\u001b[0m\u001b[1;33m=\u001b[0m\u001b[0maccept_large_sparse\u001b[0m\u001b[1;33m,\u001b[0m\u001b[1;33m\u001b[0m\u001b[1;33m\u001b[0m\u001b[0m\n",
      "\u001b[1;32m~\\anaconda3\\Anaconda\\Lib\\site-packages\\sklearn\\utils\\validation.py\u001b[0m in \u001b[0;36m?\u001b[1;34m(array, accept_sparse, accept_large_sparse, dtype, order, copy, force_writeable, force_all_finite, ensure_2d, allow_nd, ensure_min_samples, ensure_min_features, estimator, input_name)\u001b[0m\n\u001b[0;32m   1009\u001b[0m                         \u001b[1;33m)\u001b[0m\u001b[1;33m\u001b[0m\u001b[1;33m\u001b[0m\u001b[0m\n\u001b[0;32m   1010\u001b[0m                     \u001b[0marray\u001b[0m \u001b[1;33m=\u001b[0m \u001b[0mxp\u001b[0m\u001b[1;33m.\u001b[0m\u001b[0mastype\u001b[0m\u001b[1;33m(\u001b[0m\u001b[0marray\u001b[0m\u001b[1;33m,\u001b[0m \u001b[0mdtype\u001b[0m\u001b[1;33m,\u001b[0m \u001b[0mcopy\u001b[0m\u001b[1;33m=\u001b[0m\u001b[1;32mFalse\u001b[0m\u001b[1;33m)\u001b[0m\u001b[1;33m\u001b[0m\u001b[1;33m\u001b[0m\u001b[0m\n\u001b[0;32m   1011\u001b[0m                 \u001b[1;32melse\u001b[0m\u001b[1;33m:\u001b[0m\u001b[1;33m\u001b[0m\u001b[1;33m\u001b[0m\u001b[0m\n\u001b[0;32m   1012\u001b[0m                     \u001b[0marray\u001b[0m \u001b[1;33m=\u001b[0m \u001b[0m_asarray_with_order\u001b[0m\u001b[1;33m(\u001b[0m\u001b[0marray\u001b[0m\u001b[1;33m,\u001b[0m \u001b[0morder\u001b[0m\u001b[1;33m=\u001b[0m\u001b[0morder\u001b[0m\u001b[1;33m,\u001b[0m \u001b[0mdtype\u001b[0m\u001b[1;33m=\u001b[0m\u001b[0mdtype\u001b[0m\u001b[1;33m,\u001b[0m \u001b[0mxp\u001b[0m\u001b[1;33m=\u001b[0m\u001b[0mxp\u001b[0m\u001b[1;33m)\u001b[0m\u001b[1;33m\u001b[0m\u001b[1;33m\u001b[0m\u001b[0m\n\u001b[1;32m-> 1013\u001b[1;33m             \u001b[1;32mexcept\u001b[0m \u001b[0mComplexWarning\u001b[0m \u001b[1;32mas\u001b[0m \u001b[0mcomplex_warning\u001b[0m\u001b[1;33m:\u001b[0m\u001b[1;33m\u001b[0m\u001b[1;33m\u001b[0m\u001b[0m\n\u001b[0m\u001b[0;32m   1014\u001b[0m                 raise ValueError(\n\u001b[0;32m   1015\u001b[0m                     \u001b[1;34m\"Complex data not supported\\n{}\\n\"\u001b[0m\u001b[1;33m.\u001b[0m\u001b[0mformat\u001b[0m\u001b[1;33m(\u001b[0m\u001b[0marray\u001b[0m\u001b[1;33m)\u001b[0m\u001b[1;33m\u001b[0m\u001b[1;33m\u001b[0m\u001b[0m\n\u001b[0;32m   1016\u001b[0m                 \u001b[1;33m)\u001b[0m \u001b[1;32mfrom\u001b[0m \u001b[0mcomplex_warning\u001b[0m\u001b[1;33m\u001b[0m\u001b[1;33m\u001b[0m\u001b[0m\n",
      "\u001b[1;32m~\\anaconda3\\Anaconda\\Lib\\site-packages\\sklearn\\utils\\_array_api.py\u001b[0m in \u001b[0;36m?\u001b[1;34m(array, dtype, order, copy, xp, device)\u001b[0m\n\u001b[0;32m    747\u001b[0m         \u001b[1;31m# Use NumPy API to support order\u001b[0m\u001b[1;33m\u001b[0m\u001b[1;33m\u001b[0m\u001b[0m\n\u001b[0;32m    748\u001b[0m         \u001b[1;32mif\u001b[0m \u001b[0mcopy\u001b[0m \u001b[1;32mis\u001b[0m \u001b[1;32mTrue\u001b[0m\u001b[1;33m:\u001b[0m\u001b[1;33m\u001b[0m\u001b[1;33m\u001b[0m\u001b[0m\n\u001b[0;32m    749\u001b[0m             \u001b[0marray\u001b[0m \u001b[1;33m=\u001b[0m \u001b[0mnumpy\u001b[0m\u001b[1;33m.\u001b[0m\u001b[0marray\u001b[0m\u001b[1;33m(\u001b[0m\u001b[0marray\u001b[0m\u001b[1;33m,\u001b[0m \u001b[0morder\u001b[0m\u001b[1;33m=\u001b[0m\u001b[0morder\u001b[0m\u001b[1;33m,\u001b[0m \u001b[0mdtype\u001b[0m\u001b[1;33m=\u001b[0m\u001b[0mdtype\u001b[0m\u001b[1;33m)\u001b[0m\u001b[1;33m\u001b[0m\u001b[1;33m\u001b[0m\u001b[0m\n\u001b[0;32m    750\u001b[0m         \u001b[1;32melse\u001b[0m\u001b[1;33m:\u001b[0m\u001b[1;33m\u001b[0m\u001b[1;33m\u001b[0m\u001b[0m\n\u001b[1;32m--> 751\u001b[1;33m             \u001b[0marray\u001b[0m \u001b[1;33m=\u001b[0m \u001b[0mnumpy\u001b[0m\u001b[1;33m.\u001b[0m\u001b[0masarray\u001b[0m\u001b[1;33m(\u001b[0m\u001b[0marray\u001b[0m\u001b[1;33m,\u001b[0m \u001b[0morder\u001b[0m\u001b[1;33m=\u001b[0m\u001b[0morder\u001b[0m\u001b[1;33m,\u001b[0m \u001b[0mdtype\u001b[0m\u001b[1;33m=\u001b[0m\u001b[0mdtype\u001b[0m\u001b[1;33m)\u001b[0m\u001b[1;33m\u001b[0m\u001b[1;33m\u001b[0m\u001b[0m\n\u001b[0m\u001b[0;32m    752\u001b[0m \u001b[1;33m\u001b[0m\u001b[0m\n\u001b[0;32m    753\u001b[0m         \u001b[1;31m# At this point array is a NumPy ndarray. We convert it to an array\u001b[0m\u001b[1;33m\u001b[0m\u001b[1;33m\u001b[0m\u001b[0m\n\u001b[0;32m    754\u001b[0m         \u001b[1;31m# container that is consistent with the input's namespace.\u001b[0m\u001b[1;33m\u001b[0m\u001b[1;33m\u001b[0m\u001b[0m\n",
      "\u001b[1;32m~\\anaconda3\\Anaconda\\Lib\\site-packages\\pandas\\core\\generic.py\u001b[0m in \u001b[0;36m?\u001b[1;34m(self, dtype, copy)\u001b[0m\n\u001b[0;32m   2149\u001b[0m     def __array__(\n\u001b[0;32m   2150\u001b[0m         \u001b[0mself\u001b[0m\u001b[1;33m,\u001b[0m \u001b[0mdtype\u001b[0m\u001b[1;33m:\u001b[0m \u001b[0mnpt\u001b[0m\u001b[1;33m.\u001b[0m\u001b[0mDTypeLike\u001b[0m \u001b[1;33m|\u001b[0m \u001b[1;32mNone\u001b[0m \u001b[1;33m=\u001b[0m \u001b[1;32mNone\u001b[0m\u001b[1;33m,\u001b[0m \u001b[0mcopy\u001b[0m\u001b[1;33m:\u001b[0m \u001b[0mbool_t\u001b[0m \u001b[1;33m|\u001b[0m \u001b[1;32mNone\u001b[0m \u001b[1;33m=\u001b[0m \u001b[1;32mNone\u001b[0m\u001b[1;33m\u001b[0m\u001b[1;33m\u001b[0m\u001b[0m\n\u001b[0;32m   2151\u001b[0m     \u001b[1;33m)\u001b[0m \u001b[1;33m->\u001b[0m \u001b[0mnp\u001b[0m\u001b[1;33m.\u001b[0m\u001b[0mndarray\u001b[0m\u001b[1;33m:\u001b[0m\u001b[1;33m\u001b[0m\u001b[1;33m\u001b[0m\u001b[0m\n\u001b[0;32m   2152\u001b[0m         \u001b[0mvalues\u001b[0m \u001b[1;33m=\u001b[0m \u001b[0mself\u001b[0m\u001b[1;33m.\u001b[0m\u001b[0m_values\u001b[0m\u001b[1;33m\u001b[0m\u001b[1;33m\u001b[0m\u001b[0m\n\u001b[1;32m-> 2153\u001b[1;33m         \u001b[0marr\u001b[0m \u001b[1;33m=\u001b[0m \u001b[0mnp\u001b[0m\u001b[1;33m.\u001b[0m\u001b[0masarray\u001b[0m\u001b[1;33m(\u001b[0m\u001b[0mvalues\u001b[0m\u001b[1;33m,\u001b[0m \u001b[0mdtype\u001b[0m\u001b[1;33m=\u001b[0m\u001b[0mdtype\u001b[0m\u001b[1;33m)\u001b[0m\u001b[1;33m\u001b[0m\u001b[1;33m\u001b[0m\u001b[0m\n\u001b[0m\u001b[0;32m   2154\u001b[0m         if (\n\u001b[0;32m   2155\u001b[0m             \u001b[0mastype_is_view\u001b[0m\u001b[1;33m(\u001b[0m\u001b[0mvalues\u001b[0m\u001b[1;33m.\u001b[0m\u001b[0mdtype\u001b[0m\u001b[1;33m,\u001b[0m \u001b[0marr\u001b[0m\u001b[1;33m.\u001b[0m\u001b[0mdtype\u001b[0m\u001b[1;33m)\u001b[0m\u001b[1;33m\u001b[0m\u001b[1;33m\u001b[0m\u001b[0m\n\u001b[0;32m   2156\u001b[0m             \u001b[1;32mand\u001b[0m \u001b[0musing_copy_on_write\u001b[0m\u001b[1;33m(\u001b[0m\u001b[1;33m)\u001b[0m\u001b[1;33m\u001b[0m\u001b[1;33m\u001b[0m\u001b[0m\n",
      "\u001b[1;31mValueError\u001b[0m: could not convert string to float: 'Delhi'"
     ]
    }
   ],
   "source": [
    "rf.fit(x_train, y_train)"
   ]
  },
  {
   "cell_type": "code",
   "execution_count": null,
   "id": "ae70fe81-33bd-476f-b7c7-86e24284b1b7",
   "metadata": {},
   "outputs": [],
   "source": [
    "rf_pred = rf.predict(x_test)"
   ]
  },
  {
   "cell_type": "code",
   "execution_count": null,
   "id": "a92da785-6107-40cb-956a-1ec83da223b1",
   "metadata": {},
   "outputs": [],
   "source": [
    "rf_mae = mean_absolute_error(y_test, rf_pred)\n",
    "rf_r2 = r2_score(y_test, rf_pred)"
   ]
  },
  {
   "cell_type": "code",
   "execution_count": null,
   "id": "56d5722f-4a83-43bf-a553-53790d3d1eb9",
   "metadata": {},
   "outputs": [],
   "source": [
    "print(\"Random Forest\")\n",
    "print(f\"MAE: ₹{rf_mae:.2f} | R² Score: {rf_r2:.3f}\")\n"
   ]
  },
  {
   "cell_type": "markdown",
   "id": "e6c3d70d-1936-4694-b0e6-56ff0589e27a",
   "metadata": {},
   "source": [
    "# XGBoost"
   ]
  },
  {
   "cell_type": "code",
   "execution_count": null,
   "id": "13562ef0-2840-48cb-94a4-643c8155dffd",
   "metadata": {},
   "outputs": [],
   "source": [
    "xgb = XGBRegressor(n_estimators=100, learning_rate=0.1, random_state=42)"
   ]
  },
  {
   "cell_type": "code",
   "execution_count": null,
   "id": "74ecd7b2-c152-4a26-b026-38425e1bb8de",
   "metadata": {},
   "outputs": [],
   "source": [
    "xgb.fit(x_train, y_train)"
   ]
  },
  {
   "cell_type": "code",
   "execution_count": null,
   "id": "e5204f09-6b6f-46a7-901d-ed8ee39a141f",
   "metadata": {},
   "outputs": [],
   "source": [
    "xgb_pred = xgb.predict(x_test)"
   ]
  },
  {
   "cell_type": "code",
   "execution_count": null,
   "id": "93e47c18-1418-4025-bab8-287f93b776f8",
   "metadata": {},
   "outputs": [],
   "source": [
    "xgb_mae = mean_absolute_error(y_test, xgb_pred)\n",
    "xgb_r2 = r2_score(y_test, xgb_pred)"
   ]
  },
  {
   "cell_type": "code",
   "execution_count": null,
   "id": "5c0649be-237a-4eb5-b660-e390b1e9b2fa",
   "metadata": {},
   "outputs": [],
   "source": [
    "print(\"XGBoost\")\n",
    "print(f\"MAE: ₹{xgb_mae:.2f} | R² Score: {xgb_r2:.3f}\")"
   ]
  },
  {
   "cell_type": "markdown",
   "id": "ca059c87-2585-4557-b5b6-c1eb6153c81a",
   "metadata": {},
   "source": [
    "**Saving the model**"
   ]
  },
  {
   "cell_type": "code",
   "execution_count": null,
   "id": "8fb37c07-36bb-4581-9b4a-e2a713219573",
   "metadata": {},
   "outputs": [],
   "source": [
    "from sklearn.compose import ColumnTransformer\n",
    "from sklearn.pipeline import Pipeline\n",
    "from sklearn.preprocessing import OneHotEncoder\n",
    "import joblib"
   ]
  },
  {
   "cell_type": "code",
   "execution_count": 84,
   "id": "19f5dbb3-d9c9-4439-8861-e8b8daa5b1d8",
   "metadata": {},
   "outputs": [],
   "source": [
    "features = ['Airline', 'From', 'To', 'Stops_num', 'Duration_mins', 'Lead_Time_Days',\n",
    "    'Booking_Slot', 'Competitor_Price', 'Price_Diff_vs_Competitor','Booking_Hour']\n",
    "target = ['Price']"
   ]
  },
  {
   "cell_type": "code",
   "execution_count": 85,
   "id": "b1bdd3c8-4596-4622-ac8e-df6e06ea2f58",
   "metadata": {},
   "outputs": [],
   "source": [
    "x= df[features]\n",
    "y = df[target]"
   ]
  },
  {
   "cell_type": "code",
   "execution_count": 86,
   "id": "a30eff8b-ad79-4440-b141-d8a26faf7fbc",
   "metadata": {},
   "outputs": [],
   "source": [
    "cat_features = ['Airline', 'From', 'To', 'Booking_Slot']\n",
    "num_features = ['Stops_num', 'Duration_mins', 'Lead_Time_Days', 'Competitor_Price', 'Price_Diff_vs_Competitor','Booking_Hour']"
   ]
  },
  {
   "cell_type": "code",
   "execution_count": 87,
   "id": "94bb63ca-46dd-4ce6-a846-99b828405bc4",
   "metadata": {},
   "outputs": [],
   "source": [
    "preprocessor = ColumnTransformer(transformers=[\n",
    "    ('cat', OneHotEncoder(handle_unknown='ignore'), cat_features)\n",
    "], remainder='passthrough')"
   ]
  },
  {
   "cell_type": "code",
   "execution_count": 88,
   "id": "db1b9851-9bf5-4bd0-8ad5-56d29e24d416",
   "metadata": {},
   "outputs": [],
   "source": [
    "pipeline = Pipeline([\n",
    "    ('preprocessor', preprocessor),\n",
    "    ('model', RandomForestRegressor(n_estimators=100, random_state=42))\n",
    "])"
   ]
  },
  {
   "cell_type": "code",
   "execution_count": 89,
   "id": "7c439a33-3af3-468d-be6f-1368e2e395fd",
   "metadata": {},
   "outputs": [],
   "source": [
    "x_train, x_test, y_train, y_test = train_test_split(x, y, test_size=0.2, random_state=42)"
   ]
  },
  {
   "cell_type": "code",
   "execution_count": 90,
   "id": "59c63199-0b2c-4b61-91b0-1a33a78c69c0",
   "metadata": {},
   "outputs": [
    {
     "name": "stderr",
     "output_type": "stream",
     "text": [
      "C:\\Users\\shriy\\anaconda3\\Anaconda\\Lib\\site-packages\\sklearn\\base.py:1473: DataConversionWarning: A column-vector y was passed when a 1d array was expected. Please change the shape of y to (n_samples,), for example using ravel().\n",
      "  return fit_method(estimator, *args, **kwargs)\n"
     ]
    }
   ],
   "source": [
    "pipeline.fit(x_train, y_train)\n",
    "score = pipeline.score(x_test, y_test)"
   ]
  },
  {
   "cell_type": "code",
   "execution_count": 91,
   "id": "6efe019e-8188-4cae-b0a2-d1ac27280a87",
   "metadata": {},
   "outputs": [
    {
     "name": "stdout",
     "output_type": "stream",
     "text": [
      "✅ Pipeline Evaluation R² Score: 0.9985\n"
     ]
    }
   ],
   "source": [
    "print(f\"✅ Pipeline Evaluation R² Score: {score:.4f}\")"
   ]
  },
  {
   "cell_type": "code",
   "execution_count": 92,
   "id": "7ee020fd-35f1-42de-98b5-ad7a97558b7f",
   "metadata": {},
   "outputs": [
    {
     "name": "stdout",
     "output_type": "stream",
     "text": [
      "Model trained on full data and saved\n"
     ]
    }
   ],
   "source": [
    "joblib.dump(pipeline, 'flight_price_model.pkl')\n",
    "print(\"Model trained on full data and saved\")"
   ]
  },
  {
   "cell_type": "code",
   "execution_count": 93,
   "id": "712d516f-9c0c-4bca-8fc8-aab226024058",
   "metadata": {},
   "outputs": [
    {
     "data": {
      "text/plain": [
       "Index(['Airline', 'From', 'To', 'Stops_num', 'Duration_mins', 'Lead_Time_Days',\n",
       "       'Booking_Slot', 'Competitor_Price', 'Price_Diff_vs_Competitor',\n",
       "       'Booking_Hour'],\n",
       "      dtype='object')"
      ]
     },
     "execution_count": 93,
     "metadata": {},
     "output_type": "execute_result"
    }
   ],
   "source": [
    "x.columns"
   ]
  },
  {
   "cell_type": "markdown",
   "id": "8d30930c-ad1d-491f-a6ff-5736898f10e7",
   "metadata": {},
   "source": [
    "**--------------------------------------------------------------------------END-----------------------------------------------------------------------------**"
   ]
  }
 ],
 "metadata": {
  "kernelspec": {
   "display_name": "Python 3 (ipykernel)",
   "language": "python",
   "name": "python3"
  },
  "language_info": {
   "codemirror_mode": {
    "name": "ipython",
    "version": 3
   },
   "file_extension": ".py",
   "mimetype": "text/x-python",
   "name": "python",
   "nbconvert_exporter": "python",
   "pygments_lexer": "ipython3",
   "version": "3.12.7"
  }
 },
 "nbformat": 4,
 "nbformat_minor": 5
}
